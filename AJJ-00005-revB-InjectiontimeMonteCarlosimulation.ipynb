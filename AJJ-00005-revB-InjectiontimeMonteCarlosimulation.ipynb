{
 "cells": [
  {
   "cell_type": "markdown",
   "metadata": {},
   "source": [
    "# NIS injection time simulation\n",
    "\n",
    "## Introduction\n",
    "\n",
    "The New Injection Systems (NIS) autoinjector does not suffer from some of the limitations of traditional spring-powered autoinjectors, such as a relatively low limit on the force of the main spring. See Springboard document \"AAD-00322-revC NIS versus competitors\" for more information. \n",
    "\n",
    "If the main spring can be stronger, and the needle can be shorter, then the injection time can be shorter for a given drug viscosity.\n",
    "\n",
    "Looking at it another way, the NIS autoinjector should be able to inject more viscous drugs than competitor devices for a given needle diameter.\n",
    "\n",
    "This document is a simulation to predict the maximum injection time for a given needle, viscosity and volume.\n",
    "\n",
    "Currently, this document only considers injection time as the limit on viscosity.  There might be other limits, such as the device failing if the spring force is too high in storage.\n",
    "\n",
    "## Injection time limit\n",
    "\n",
    "There is no hard limit to injection time that is accepted in the drug delivery industry.  However, we can summarise the times specified in the Instructions for Use for example drugs on the market:\n",
    "\n",
    "| Autoinjector | Drug    | Injection time (s)  | Reference |\n",
    "|:-------------|:--------|:-------------------:|:----------|\n",
    "| EpiPen       | Epinephrine | 3 | [EpiPen Instructions for Use](https://dailymed.nlm.nih.gov/dailymed/fda/fdaDrugXsl.cfm?setid=7560c201-9246-487c-a13b-6295db04274a&type=display#section-14) |\n",
    "| SymTouch (Molly)        | Zembrace (Sumatriptan) | 5 | [Zembrance Instructions for Use](http://www.zembrace.com/Content/docs/zembrace-instructions-for-use.pdf)|\n",
    "| Humira Pen | Humira (adalimumab) | 10 | [Transcript of Humira training video](https://www.humira.com/humira-complete/transcript_adultPen) |\n",
    "| AutoClicks   | Cimzia (certolizumab pegol) | 15 | [Cimzia AutoClicks Instructions for Use](https://www.medicines.org.uk/emc/files/pil.7387.pdf) |\n",
    "| DAI (SureClick) | Enbrel (etanercept) | 15 | [Enbrel Instructions for Use](https://www.enbrel.com/-/media/project/enbrel/discussion-guides/enbrel_piu.ashx) |\n",
    "\n",
    "Ypsomed has [published a study](https://yds.ypsomed.com/files/media/03_Documents/12_Articles/!!20_OnDrugD_SCAN_How%20long%20can%20you%20hold%20the%20device%20against%20the%20skin.pdf) claiming that patients experienced no errors for 30 second injections (although the study did not question whether there was an upper limit set by patient _preference_).\n",
    "For relatively long injections such as 15 seconds, injection time is dominated by the viscous flow of the drug through the needle, which we can model using the Hagen-Poiseuille equation.\n",
    "\n",
    "## The Hagen-Poiseuille equation for injection time\n",
    "\n",
    "The Hagen–Poiseuille equation for flow rate is\n",
    "\n",
    "\\begin{equation*}Q = \\frac{\\pi \\Delta P d^4}{128 \\mu L}\\end{equation*}\n",
    "\n",
    "where $\\pi$ is 3.141, $\\Delta P$ is the pressure drop (Pa), d is the diameter (m), $\\mu$ is the dynamic viscosity (Pa.s), and L is the Needle length (m). [Reference: Anaesthesia UK](http://www.frca.co.uk/article.aspx?articleid=100482)\n",
    "\n",
    "Assuming a constant flow rate, and replacing the pressure with force per unit area of Syringe, the time taken to inject is\n",
    "\n",
    "\\begin{equation*}t = \\frac{32 \\mu L V D^2}{F d^4}\\end{equation*}\n",
    "\n",
    "where V is the volume injected ($m^3$), D is the Syringe diameter (m), and F is the force on the Syringe plunger (N).\n",
    "\n",
    "The equation can be extended to two needles in series for different septum and patient needles:\n",
    "\n",
    "\\begin{equation*}t = \\frac{32 \\mu V d^2}{F} \\left(\\frac{L_{1}}{D_{1}^4} + \\frac{L_{1}}{D_{1}^4}\\right) \\end{equation*}\n",
    "\n",
    "Where the subscripts 1 and 2 denote the patient and septum needles.\n",
    "\n",
    "The injection times must be taken as approximations because:\n",
    "\n",
    "1. This is only a simulation.\n",
    "\n",
    "2. The simulation is very sensitive to distributions for which we have little or no actual measurement data. One would need to measure a representative sample of each sensitive parameter across more than one batch to reduce the errors in this simulation.\n",
    "\n",
    "## Assumptions and limitations\n",
    "\n",
    "For this simulation, we have assumed the following:\n",
    "\n",
    "1. The drug formulation is a Newtonian fluid. That is, the viscosity does not vary with shear rate.\n",
    "1. Needle bore is round.\n",
    "1. Needle bore is uniform along the Needle length.\n",
    "1. The flow resistance within the cartridge (as opposed to the Needle) is negligible. That is, we do not need to calculate the Hagen-Poiseuille pressure drop in the cartridge.\n",
    "1. The glide force (friction) between the Plunger and Cartridge is:\n",
    "  a. Constant as the Plunger moves along its stroke.\n",
    "  b. The correct value for the speed at which we are injecting.  In reality, the friction is\n",
    "     rate-dependent.\n",
    "  c. Independent of the storage time and conditions.  In practice, there is some dependence.\n",
    "1. The inputs into the Hagen-Poiseuille equation are independent. For example, we assume that the needle bore does not correlate with the needle length.\n",
    "1. All parameters for which we do not have actual data are:\n",
    " * In control.\n",
    " * Centred. That is, the mean of the distribution is on target.\n",
    " * Process capable to 4 standard deviations ($c_{p} = 1.33$). \n",
    " \n",
    "We do not know the degree to which batch-to-batch variation affects the parameters."
   ]
  },
  {
   "cell_type": "code",
   "execution_count": 12,
   "metadata": {},
   "outputs": [],
   "source": [
    "# Import standard library modules\n",
    "from functools import partial\n",
    "\n",
    "# Import third-party modules\n",
    "import matplotlib as mpl\n",
    "import matplotlib.pyplot as plt\n",
    "import numpy as np\n",
    "import pandas as pd\n",
    "import ipywidgets as widgets\n",
    "from ipywidgets import interact, interactive, interact_manual, IntSlider, Dropdown\n",
    "\n",
    "# Import Springboard modules\n",
    "import montecarlo as mc"
   ]
  },
  {
   "cell_type": "code",
   "execution_count": 13,
   "metadata": {},
   "outputs": [],
   "source": [
    "# Set the size for figures (charts)\n",
    "mpl.rcParams['figure.figsize'] = (10, 8)"
   ]
  },
  {
   "cell_type": "code",
   "execution_count": 14,
   "metadata": {},
   "outputs": [],
   "source": [
    "# Define the Hagen-Poiseuille equation\n",
    "def hagen(spring, glide, friction, viscosity, volume, \n",
    "          pat_length, pat_needle_dia, sept_length, sept_needle_dia, container_dia):\n",
    "    \"\"\"Return the time in seconds taken to propel volume through Needle.\n",
    "    \n",
    "    Parameters:\n",
    "    spring:       injection spring force (N).\n",
    "    glide:        friction (N) between the Plunger and Syringe.\n",
    "    friction:     friction in the device, typically between the \n",
    "                  Plunger Rod and Body.\n",
    "    viscosity:    viscosity (cP) of the liquid.\n",
    "    volume:       liquid volume (mL) to pass through the Needle.\n",
    "    pat_length:   length (mm) of patient Needle through which liquid flows.\n",
    "                  Note that this is often greater than the exposed \n",
    "                  length of Needle.\n",
    "    pat_needle_dia:   inner diameter (mm) of patient needle diameter.\n",
    "    sept_length:   length (mm) of septum Needle through which liquid flows.\n",
    "                  Note that this is often greater than the exposed \n",
    "                  length of Needle.\n",
    "    sept_needle_dia:   inner diameter (mm) of septum needle diameter.\n",
    "    container_dia:inner diameter (mm) of Syringe.\n",
    "    \"\"\"\n",
    "    # Find the force on the liquid\n",
    "    force = spring - glide - friction\n",
    "    return (0.000032 * viscosity * volume * (container_dia ** 2)) * \\\n",
    "            ((pat_length / (pat_needle_dia ** 4)) + (sept_length / (sept_needle_dia ** 4)))            \\\n",
    "        / force \n",
    "\n",
    "# Test the hagen function\n",
    "tolerance = 0.01  # Assert equal to 2 decimal places\n",
    "\n",
    "tests = (\n",
    "    {'expected': 5.04907, 'actual': hagen(40, 2, 1.2, 50, 0.9, 6.25, 0.25,6.25, 0.25, 6.35)},\n",
    "    {'expected': 14.7673, 'actual': hagen(40, 4, 2, 80, 1, 9.5, 0.25,9.5, 0.25, 6.35)},\n",
    "    {'expected': 13.5451, 'actual': hagen(50, 4, 2, 10, 2, 8, 0.20,8, 0.20, 9.65)},\n",
    ")\n",
    "\n",
    "for test in tests:\n",
    "    try:\n",
    "        assert abs(test['expected'] - test['actual']) < tolerance\n",
    "    \n",
    "    except AssertionError:\n",
    "        print(f\"Error: {test['expected']} != {test['actual']}\")"
   ]
  },
  {
   "cell_type": "markdown",
   "metadata": {},
   "source": [
    "# Forces in the device\n",
    "\n",
    "There are three forces present in the device: the force from the compression of the spring, the device friction and the plunger-cartridge wall friction.\n",
    "\n",
    "### Spring force\n",
    "\n",
    "Note: we need to consider the maximum force we are willing to use before the spring becomes an unacceptable risk to put in an autoinjector.  \n",
    "3-month stability testing at Boehringer Ingelheim used 75 N springs.  \n",
    "EpiPen uses 87 N [Jaguar.AFQ\\60. Analysis\\Spring design\\AFQ-00025-revA Max spring force designs.xlsx]\n",
    "\n",
    "The forces discussed above are the maximum force when the spring is compressed in manufacture.  Be careful to use the spring force at the start of injection, not when the spring is at its solid length, or at the start of needle insertion (if the spring powers the needle insertion).\n",
    "\n",
    "The force we need to use for injection time calculations is the mean force, also called the midway force because it is the force\n",
    "that the spring exerts midway through the injection.\n",
    "\n",
    "Here we use spring designs from \"Sales.AAD\\Clients\\Midas Pharma\\2019-11 Design for terminal sterilisation\\AAD-00323-revC NIS dimensions and springs.xlsx\"\n",
    "\n",
    "Use a standard spring manufacturing tolerance of $\\pm$10%.\n",
    "\n",
    "[Axcess Spring](https://www.thespringstore.com/standard-spring-rate-tolerance.html) and [Lee Spring](https://www.leespring.com/engineering-notes-and-tolerances) quote this industry standard 10% tolerance on spring rate.\n",
    "\n",
    "### Device friction\n",
    "\n",
    "All devices have internal friction between some components.  Friction tolerances are very difficult to define.  We can expect that they are \n",
    "not tight because they are not parameters that can be controlled directly in manufacturing\n",
    "processes unlike a dimension. We can also expect that they scale with the mean friction \n",
    "(larger mean friction will have a larger absolute tolerance), and that friction cannot\n",
    "be negative.\n",
    "\n",
    "Therefore, let us set all friction tolerances to be $\\pm$ 70%.\n",
    "\n",
    "### Plunger-cartridge friction\n",
    "\n",
    "Let us use 0.54 N (see AFQ-00010-revA Plunger friction analysis from project Jaguar)."
   ]
  },
  {
   "cell_type": "code",
   "execution_count": 15,
   "metadata": {
    "scrolled": false
   },
   "outputs": [],
   "source": [
    "def define_force_distributions(nom_device_friction, nom_plunger_friction, nom_spring_force):\n",
    "    device_friction = mc.Parameter(nom_device_friction, 0.7 * nom_device_friction)\n",
    "    plunger_friction = mc.Parameter(nom_plunger_friction, 0.7 * nom_plunger_friction)\n",
    "    spring_force = mc.Parameter(nom_spring_force, nom_spring_force * 0.1,'Midway spring force')\n",
    "    return spring_force, device_friction, plunger_friction \n",
    "    # Spring for 1.5 mL cartridge"
   ]
  },
  {
   "cell_type": "code",
   "execution_count": 16,
   "metadata": {},
   "outputs": [
    {
     "data": {
      "image/png": "[encoded data removed]",
      "text/plain": [
       "<Figure size 720x576 with 1 Axes>"
      ]
     },
     "metadata": {
      "needs_background": "light"
     },
     "output_type": "display_data"
    }
   ],
   "source": [
    "#Example distribution\n",
    "spring_1_5 = mc.Parameter(83, 0.1 * 83, 'Midway force for spring')\n",
    "spring_1_5.hist();"
   ]
  },
  {
   "cell_type": "markdown",
   "metadata": {},
   "source": [
    "# Needle lengths"
   ]
  },
  {
   "cell_type": "markdown",
   "metadata": {},
   "source": [
    "[ISO 7864:2016](https://www.iso.org/standard/60481.html) specifies a tolerance on needle length of +1mm, -2mm so a tolerance of ±1 mm will be assumed."
   ]
  },
  {
   "cell_type": "code",
   "execution_count": 17,
   "metadata": {},
   "outputs": [],
   "source": [
    "def define_needle_length_distributions(nom_pat_needle_length, nom_sept_needle_length):\n",
    "    pat_needle_length = mc.Parameter(nom_pat_needle_length,1)\n",
    "    sept_needle_length = mc.Parameter(nom_sept_needle_length,1)\n",
    "    return pat_needle_length, sept_needle_length\n"
   ]
  },
  {
   "cell_type": "markdown",
   "metadata": {},
   "source": [
    "# Cartridge configurations\n",
    "\n",
    "#### Drug formulation volume to be injected\n",
    "\n",
    "Midas has proposed using a 1.0 mL fill in 1.5 mL cartridge and 2.0 mL fill volume in a 3 mL cartridge.\n",
    "\n",
    "A typical tolerance on volume fill might be $\\pm$ 0.05 mL [ABH-00083-revF].\n",
    "\n",
    "A tolerance of $\\pm$1% for fill volume is usually achieved for cartridge filling according to [Bausch Group](https://www.bausch-group.com/) however it may depend on the drug viscosity and surface tension.\n",
    "\n",
    "#### Cartridge inner diameter\n",
    "\n",
    "The ISO standards for container diameters are:\n",
    "\n",
    "| Container type | Inner diameter (mm) | Reference |\n",
    "|---|---|---|\n",
    "| 1 mL \"BD Hypak long\" syringe | 6.35 $\\pm$ 0.1 | Hypak and Neopak drawings |\n",
    "| 1 mL cartridge | 6.85 $\\pm$ 0.1 | [ISO 13926-1:2004](https://www.iso.org/standard/40331.html)|\n",
    "| 1.5 mL cartridge | 6.85 $\\pm$ 0.1 | [ISO 13926-1:2004](https://www.iso.org/standard/40331.html) and [Ypsomed drawing](https://yds.ypsomed.com/en/injection-systems/pen-injectors/unopen.html) |\n",
    "| 3.0 mL cartridge | 9.65 $\\pm$ 0.1 | [ISO 13926-1:2004](https://www.iso.org/standard/40331.html) and [Ypsomed drawing](https://yds.ypsomed.com/en/injection-systems/pen-injectors/unopen.html)|"
   ]
  },
  {
   "cell_type": "code",
   "execution_count": 26,
   "metadata": {},
   "outputs": [],
   "source": [
    "cartridge_configs = pd.read_excel('Cartridge configurations.xlsx', index_col=0, engine='openpyxl')\n",
    "\n",
    "def define_cartridge_config_distributions(config):\n",
    "    volume = cartridge_configs['Volume (mL)'][config]\n",
    "    volumes = mc.Parameter(volume, 0.05)\n",
    "    cartridge_diameter = cartridge_configs['Cartridge ID (mm)'][config]\n",
    "    cartridge_diameters = mc.Parameter(cartridge_diameter, 0.1)\n",
    "    return volumes, cartridge_diameters\n",
    "    "
   ]
  },
  {
   "cell_type": "code",
   "execution_count": null,
   "metadata": {},
   "outputs": [],
   "source": []
  },
  {
   "cell_type": "markdown",
   "metadata": {},
   "source": [
    "## Needle diameters\n",
    "\n",
    "For reference, EpiPen uses a [22 gauge needle](http://www.epipen.co.uk/hcp/faqs/) and Cimzia AutoClicks uses a 25 gauge thin wall needle.\n",
    "\n",
    "We can analyse needle diameters from 31 gauge (around the smallest used outside low-depth insulin injections) up to 25 gauge (the largest in modern autoinjector use).\n",
    "\n",
    "The staked needles in syringes tend to be odd gauge numbers (25, 27, 29) so we shall model these and there is not much benefit in modelling the even numbers in addition.\n",
    "\n",
    "Thin walled needles can be used, but we use a regular wall for the 31 gauge needle because it is becoming very thin for the needle length.\n",
    "\n",
    "Needle sizes can be found on the [Sigma Aldrich](https://www.sigmaaldrich.com/assets/documents/Supelco/Application_Notes/syringes5.pdf) website."
   ]
  },
  {
   "cell_type": "code",
   "execution_count": 19,
   "metadata": {},
   "outputs": [
    {
     "data": {
      "text/html": [
       "<div>\n",
       "<style scoped>\n",
       "    .dataframe tbody tr th:only-of-type {\n",
       "        vertical-align: middle;\n",
       "    }\n",
       "\n",
       "    .dataframe tbody tr th {\n",
       "        vertical-align: top;\n",
       "    }\n",
       "\n",
       "    .dataframe thead th {\n",
       "        text-align: right;\n",
       "    }\n",
       "</style>\n",
       "<table border=\"1\" class=\"dataframe\">\n",
       "  <thead>\n",
       "    <tr style=\"text-align: right;\">\n",
       "      <th></th>\n",
       "      <th>Wall</th>\n",
       "      <th>Min_ID_ISO</th>\n",
       "      <th>Min_ID</th>\n",
       "      <th>Nominal_ID</th>\n",
       "      <th>Max_ID</th>\n",
       "    </tr>\n",
       "    <tr>\n",
       "      <th>Gauge</th>\n",
       "      <th></th>\n",
       "      <th></th>\n",
       "      <th></th>\n",
       "      <th></th>\n",
       "      <th></th>\n",
       "    </tr>\n",
       "  </thead>\n",
       "  <tbody>\n",
       "    <tr>\n",
       "      <th>31</th>\n",
       "      <td>RW</td>\n",
       "      <td>0.125</td>\n",
       "      <td>0.1143</td>\n",
       "      <td>0.13462</td>\n",
       "      <td>0.1524</td>\n",
       "    </tr>\n",
       "    <tr>\n",
       "      <th>29</th>\n",
       "      <td>TW</td>\n",
       "      <td>0.190</td>\n",
       "      <td>0.2032</td>\n",
       "      <td>0.21590</td>\n",
       "      <td>0.2286</td>\n",
       "    </tr>\n",
       "    <tr>\n",
       "      <th>27</th>\n",
       "      <td>TW</td>\n",
       "      <td>0.241</td>\n",
       "      <td>0.2400</td>\n",
       "      <td>0.25000</td>\n",
       "      <td>0.2800</td>\n",
       "    </tr>\n",
       "    <tr>\n",
       "      <th>25</th>\n",
       "      <td>TW</td>\n",
       "      <td>0.292</td>\n",
       "      <td>0.2900</td>\n",
       "      <td>0.31000</td>\n",
       "      <td>0.3300</td>\n",
       "    </tr>\n",
       "    <tr>\n",
       "      <th>24</th>\n",
       "      <td>TW</td>\n",
       "      <td>0.343</td>\n",
       "      <td>0.3400</td>\n",
       "      <td>0.37000</td>\n",
       "      <td>0.3900</td>\n",
       "    </tr>\n",
       "    <tr>\n",
       "      <th>23</th>\n",
       "      <td>TW</td>\n",
       "      <td>0.370</td>\n",
       "      <td>0.4200</td>\n",
       "      <td>0.43000</td>\n",
       "      <td>0.4600</td>\n",
       "    </tr>\n",
       "    <tr>\n",
       "      <th>22</th>\n",
       "      <td>TW</td>\n",
       "      <td>0.440</td>\n",
       "      <td>0.4800</td>\n",
       "      <td>0.51000</td>\n",
       "      <td>0.5200</td>\n",
       "    </tr>\n",
       "    <tr>\n",
       "      <th>21</th>\n",
       "      <td>TW</td>\n",
       "      <td>0.547</td>\n",
       "      <td>0.5700</td>\n",
       "      <td>0.58000</td>\n",
       "      <td>0.6100</td>\n",
       "    </tr>\n",
       "    <tr>\n",
       "      <th>20</th>\n",
       "      <td>TW</td>\n",
       "      <td>0.635</td>\n",
       "      <td>0.6500</td>\n",
       "      <td>0.66000</td>\n",
       "      <td>0.6900</td>\n",
       "    </tr>\n",
       "  </tbody>\n",
       "</table>\n",
       "</div>"
      ],
      "text/plain": [
       "      Wall  Min_ID_ISO  Min_ID  Nominal_ID  Max_ID\n",
       "Gauge                                             \n",
       "31      RW       0.125  0.1143     0.13462  0.1524\n",
       "29      TW       0.190  0.2032     0.21590  0.2286\n",
       "27      TW       0.241  0.2400     0.25000  0.2800\n",
       "25      TW       0.292  0.2900     0.31000  0.3300\n",
       "24      TW       0.343  0.3400     0.37000  0.3900\n",
       "23      TW       0.370  0.4200     0.43000  0.4600\n",
       "22      TW       0.440  0.4800     0.51000  0.5200\n",
       "21      TW       0.547  0.5700     0.58000  0.6100\n",
       "20      TW       0.635  0.6500     0.66000  0.6900"
      ]
     },
     "execution_count": 19,
     "metadata": {},
     "output_type": "execute_result"
    }
   ],
   "source": [
    "needle_types = pd.read_excel('Needle diameters.xlsx', usecols=\"A:F\", index_col=0, engine='openpyxl')\n",
    "needle_types"
   ]
  },
  {
   "cell_type": "code",
   "execution_count": 23,
   "metadata": {},
   "outputs": [],
   "source": [
    "def define_needle_diameter_distributions(needle_gauges):\n",
    "    needle_IDs = []\n",
    "    for gauge in needle_gauges:\n",
    "        nominal_ID = needle_types['Nominal_ID'][gauge]\n",
    "        tolerance = needle_types['Nominal_ID'][gauge]-needle_types['Min_ID'][gauge]\n",
    "        needle_IDs.append(mc.Parameter(nominal_ID, tolerance, gauge))\n",
    "    return needle_IDs"
   ]
  },
  {
   "cell_type": "markdown",
   "metadata": {},
   "source": [
    "## Drug forumulation viscosity\n",
    "\n",
    "Let us model a range of viscosities with an arbitrary tolerance of $\\pm$10%."
   ]
  },
  {
   "cell_type": "code",
   "execution_count": 24,
   "metadata": {},
   "outputs": [
    {
     "data": {
      "text/plain": [
       "[Parameter(1.00),\n",
       " Parameter(10.00),\n",
       " Parameter(30.00),\n",
       " Parameter(50.00),\n",
       " Parameter(70.00),\n",
       " Parameter(100.00)]"
      ]
     },
     "execution_count": 24,
     "metadata": {},
     "output_type": "execute_result"
    }
   ],
   "source": [
    "viscosities = [mc.Parameter(v, 0.1 * v) for v in (1, 10, 30, 50, 70, 100)]\n",
    "viscosities"
   ]
  },
  {
   "cell_type": "markdown",
   "metadata": {},
   "source": [
    "## Example Monte Carlo simulation"
   ]
  },
  {
   "cell_type": "markdown",
   "metadata": {},
   "source": [
    "Create a distribution of needle diameters for the 25 gauge thin wall needle."
   ]
  },
  {
   "cell_type": "code",
   "execution_count": 27,
   "metadata": {},
   "outputs": [],
   "source": [
    "#Define distributions\n",
    "spring, glide, friction = define_force_distributions(1,0.46,70)\n",
    "patient_needle_length, septum_needle_length = define_needle_length_distributions(10, 10)\n",
    "septum_needle_diameter = define_needle_diameter_distributions([22])\n",
    "patient_needle_diameters = define_needle_diameter_distributions([29])\n",
    "volumes, cartridge_diameters = define_cartridge_config_distributions('1 mL fill in 1 mL cartridge')\n",
    "\n",
    "# Calculate injection times at room temperature\n",
    "# The rvs property is the 'random variates' (the distribution as an array)\n",
    "\n",
    "times = hagen(spring.rvs, friction.rvs, glide.rvs, viscosities[4].rvs,\n",
    "              volumes.rvs, patient_needle_length.rvs, patient_needle_diameters[0].rvs, \n",
    "              septum_needle_length.rvs, septum_needle_diameter[0].rvs, cartridge_diameters.rvs)\n",
    "\n"
   ]
  },
  {
   "cell_type": "code",
   "execution_count": 28,
   "metadata": {},
   "outputs": [],
   "source": [
    "#  Set upper specification limit for injection time\n",
    "TIME_USL = 15  # seconds"
   ]
  },
  {
   "cell_type": "code",
   "execution_count": 29,
   "metadata": {},
   "outputs": [
    {
     "data": {
      "text/plain": [
       "Median (seconds)                7.288594\n",
       "Mean (seconds)                  7.309952\n",
       "Standard deviation (seconds)    0.541198\n",
       "ppm above 15 seconds            0.000000\n",
       "dtype: float64"
      ]
     },
     "execution_count": 29,
     "metadata": {},
     "output_type": "execute_result"
    },
    {
     "data": {
      "image/png": "[encoded data removed]",
      "text/plain": [
       "<Figure size 720x576 with 1 Axes>"
      ]
     },
     "metadata": {
      "needs_background": "light"
     },
     "output_type": "display_data"
    }
   ],
   "source": [
    "def plot_times(*times, **kwargs):\n",
    "    \"\"\"Plot histograms of one or more time distributions.\n",
    "    \n",
    "    Parameters:\n",
    "    times are the arrays of injection times\n",
    "    kwargs are the keyword argments to set on the axes\n",
    "    \n",
    "    Returns: plot axes\n",
    "    \"\"\"\n",
    "    figure, axes = plt.subplots()\n",
    "\n",
    "    for time_ in times:\n",
    "        # Create histogram of injection times with 200 bins, \n",
    "        # and normalised (density plot = True)\n",
    "        axes.hist(time_, bins=200, density=True, alpha=0.5)\n",
    "    \n",
    "    axes.set(xlabel='Injection time (s)', ylabel='Probability density')\n",
    "    axes.set_xlim(0, 1.1 * TIME_USL)\n",
    "    axes.axvline(TIME_USL, color='r', label='Injection time limit')\n",
    "    axes.legend()\n",
    "    axes.set(**kwargs)\n",
    "    return axes\n",
    "\n",
    "\n",
    "# Plot and describe the injection times\n",
    "plot_times(times, title=f\"Example injection time\")\n",
    "\n",
    "# Print ppm above or below time limits\n",
    "mc.describe(times, units='seconds', usl=TIME_USL)"
   ]
  },
  {
   "cell_type": "markdown",
   "metadata": {},
   "source": [
    "## Calculate and plot injection times for different needles and drug viscosities"
   ]
  },
  {
   "cell_type": "code",
   "execution_count": 30,
   "metadata": {},
   "outputs": [],
   "source": [
    "# Use this plotting function to set format and style for plot\n",
    "def plot_grid(df, **kwargs):\n",
    "    \"\"\"Plot the DataFrame df and set the keyword argments kwargs on the axes.\"\"\"\n",
    "    axes = df.plot()\n",
    "    axes.set(**kwargs)\n",
    "    \"\"\"Mark injection time area that does not meet 15s requirement.\"\"\"\n",
    "    #axes.axhspan(15,df.to_numpy().max(), color='red', alpha=0.1)\n",
    "    plt.xlim([0, df.index.max()])\n",
    "    plt.ylim([0, min(df.to_numpy().max(),60)])\n",
    "    axes.grid();"
   ]
  },
  {
   "cell_type": "code",
   "execution_count": 32,
   "metadata": {
    "scrolled": false
   },
   "outputs": [
    {
     "data": {
      "application/vnd.jupyter.widget-view+json": {
       "model_id": "f1fc9a573ff24479bd4e2dbdd5efc067",
       "version_major": 2,
       "version_minor": 0
      },
      "text/plain": [
       "interactive(children=(IntSlider(value=10, continuous_update=False, description='Patient needle length (mm):', …"
      ]
     },
     "metadata": {},
     "output_type": "display_data"
    }
   ],
   "source": [
    "style = {'description_width': 'initial','width': '900px'}\n",
    "@interact\n",
    "def plot_injection_times(nom_pat_needle_length = IntSlider(description = 'Patient needle length (mm):', min=5,max=20,value=10,style=style,continuous_update=False),\n",
    "                         nom_sept_needle_length = IntSlider(description = 'Septum needle length (mm):', min=5,max=30,value=17,style=style,continuous_update=False),\n",
    "                         septum_needle_gauge = Dropdown(options=needle_types.index.values,style=style,value=22, description = 'Septum needle gauge:'),\n",
    "                         percentile = IntSlider(description = 'Percentile (%):', min=1,max=99,value=99,style=style,continuous_update=False),\n",
    "                        nom_spring_force = IntSlider(description = 'Spring Force (N):', min=5,max=150,value=50,style=style,continuous_update=False),\n",
    "                        cartridge_configuration = Dropdown(description= 'Cartridge configuration:',options=cartridge_configs.index.values,style=style)):\n",
    "                         \n",
    "    #get distributions from each variable             \n",
    "    spring, glide, friction = define_force_distributions(1.4,0.54,nom_spring_force)\n",
    "    patient_needle_length, septum_needle_length = define_needle_length_distributions(nom_pat_needle_length, nom_sept_needle_length)\n",
    "    septum_needle_diameter = define_needle_diameter_distributions([septum_needle_gauge])\n",
    "    patient_needle_diameters = define_needle_diameter_distributions([25,27,29,31])\n",
    "    volumes, cartridge_diameters = define_cartridge_config_distributions(cartridge_configuration)\n",
    "\n",
    "    # List of dictionaries to store distributions of times\n",
    "    times = []\n",
    "\n",
    "    for viscosity in viscosities:\n",
    "        time_ = {}\n",
    "\n",
    "        for patient_needle in patient_needle_diameters:\n",
    "            \n",
    "            time_[patient_needle.name] = hagen(spring.rvs, friction.rvs, glide.rvs, viscosity.rvs,\n",
    "                                        volumes.rvs, patient_needle_length.rvs, patient_needle.rvs, \n",
    "                                       septum_needle_length.rvs, septum_needle_diameter[0].rvs, cartridge_diameters.rvs)\n",
    "        times.append(time_)\n",
    "\n",
    "    inj_times = pd.DataFrame(times, index=(v.target for v in viscosities))\n",
    "    \n",
    "    #Using quantiles to find percentile\n",
    "    quantile = partial(np.quantile, q=percentile/100)\n",
    "    max_inj_time = inj_times.applymap(quantile)\n",
    "    \n",
    "    \n",
    "    \n",
    "    plot_grid(max_inj_time,\n",
    "     title=str(percentile)+'% of injection times for '+str(cartridge_configuration),\n",
    "     ylabel='Injection time (s)',\n",
    "     xlabel='Viscosity (cP)')\n",
    "    \n"
   ]
  },
  {
   "cell_type": "markdown",
   "metadata": {},
   "source": [
    "#### Design Parameters\n",
    "Design AAD-00474-revB NIS ASSEMBLY PACKAGED has the following design parameters:\n",
    "- Septum needle length: 17.5 mm\n",
    "- Septum needle gauge: 22 (Thin wall)\n",
    "- Patient needle length: 10.3 mm\n",
    "- Patient needle gauge: 31 (Regular wall)\n",
    "    "
   ]
  },
  {
   "cell_type": "markdown",
   "metadata": {},
   "source": [
    "## Conclusions\n"
   ]
  },
  {
   "cell_type": "markdown",
   "metadata": {},
   "source": [
    "## Revisions\n",
    "\n",
    "This document is AIJ-00005, and the revision levels are:\n",
    "\n",
    "| Revision | Date       | Author           | Changes |\n",
    "|----------|------------|:-----------------|:--------|\n",
    "| A1       | 2021-11-21 | Tom Oakley       | First draft |\n",
    "| A2       | 2021-11-23 | Hamish Atkins    | Updated to include septum needle and interactivity |"
   ]
  },
  {
   "cell_type": "code",
   "execution_count": null,
   "metadata": {},
   "outputs": [],
   "source": []
  }
 ],
 "metadata": {
  "kernelspec": {
   "display_name": "Python 3",
   "language": "python",
   "name": "python3"
  },
  "language_info": {
   "codemirror_mode": {
    "name": "ipython",
    "version": 3
   },
   "file_extension": ".py",
   "mimetype": "text/x-python",
   "name": "python",
   "nbconvert_exporter": "python",
   "pygments_lexer": "ipython3",
   "version": "3.8.8"
  }
 },
 "nbformat": 4,
 "nbformat_minor": 4
}
